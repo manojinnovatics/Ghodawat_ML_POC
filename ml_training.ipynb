{
 "cells": [
  {
   "cell_type": "code",
   "execution_count": 245,
   "metadata": {},
   "outputs": [],
   "source": [
    "import pandas as pd \n",
    "import numpy as np\n",
    "\n",
    "from sklearn.model_selection import train_test_split\n",
    "from sklearn.preprocessing import StandardScaler\n",
    "from sklearn.linear_model import LogisticRegression\n",
    "from sklearn.metrics import accuracy_score, classification_report, confusion_matrix\n",
    "\n",
    "import matplotlib.pyplot as plt\n",
    "import seaborn as sns\n",
    "sns.set_style(\"darkgrid\")\n",
    "\n",
    "import warnings\n",
    "warnings.filterwarnings('ignore')"
   ]
  },
  {
   "cell_type": "code",
   "execution_count": 246,
   "metadata": {},
   "outputs": [
    {
     "name": "stdout",
     "output_type": "stream",
     "text": [
      "199972\n"
     ]
    },
    {
     "data": {
      "text/html": [
       "<div>\n",
       "<style scoped>\n",
       "    .dataframe tbody tr th:only-of-type {\n",
       "        vertical-align: middle;\n",
       "    }\n",
       "\n",
       "    .dataframe tbody tr th {\n",
       "        vertical-align: top;\n",
       "    }\n",
       "\n",
       "    .dataframe thead th {\n",
       "        text-align: right;\n",
       "    }\n",
       "</style>\n",
       "<table border=\"1\" class=\"dataframe\">\n",
       "  <thead>\n",
       "    <tr style=\"text-align: right;\">\n",
       "      <th></th>\n",
       "      <th>Unnamed: 0</th>\n",
       "      <th>call_id</th>\n",
       "      <th>outlet_id</th>\n",
       "      <th>is_stock_taken</th>\n",
       "      <th>transactionid</th>\n",
       "      <th>user_id</th>\n",
       "      <th>fordate</th>\n",
       "      <th>order_id</th>\n",
       "      <th>order_placed</th>\n",
       "    </tr>\n",
       "  </thead>\n",
       "  <tbody>\n",
       "    <tr>\n",
       "      <th>0</th>\n",
       "      <td>0</td>\n",
       "      <td>1000006</td>\n",
       "      <td>146762</td>\n",
       "      <td>False</td>\n",
       "      <td>2110202308141245227853</td>\n",
       "      <td>2110</td>\n",
       "      <td>2023-08-14</td>\n",
       "      <td>0</td>\n",
       "      <td>no</td>\n",
       "    </tr>\n",
       "    <tr>\n",
       "      <th>1</th>\n",
       "      <td>1</td>\n",
       "      <td>1000010</td>\n",
       "      <td>5432</td>\n",
       "      <td>True</td>\n",
       "      <td>0068202308141245595634</td>\n",
       "      <td>68</td>\n",
       "      <td>2023-08-14</td>\n",
       "      <td>0</td>\n",
       "      <td>no</td>\n",
       "    </tr>\n",
       "    <tr>\n",
       "      <th>2</th>\n",
       "      <td>2</td>\n",
       "      <td>1000012</td>\n",
       "      <td>145279</td>\n",
       "      <td>False</td>\n",
       "      <td>2036202308141245582475</td>\n",
       "      <td>2036</td>\n",
       "      <td>2023-08-14</td>\n",
       "      <td>0</td>\n",
       "      <td>no</td>\n",
       "    </tr>\n",
       "    <tr>\n",
       "      <th>3</th>\n",
       "      <td>3</td>\n",
       "      <td>1000013</td>\n",
       "      <td>113532</td>\n",
       "      <td>False</td>\n",
       "      <td>2184202308141246321842</td>\n",
       "      <td>2184</td>\n",
       "      <td>2023-08-14</td>\n",
       "      <td>466094</td>\n",
       "      <td>yes</td>\n",
       "    </tr>\n",
       "    <tr>\n",
       "      <th>4</th>\n",
       "      <td>4</td>\n",
       "      <td>1000017</td>\n",
       "      <td>124292</td>\n",
       "      <td>False</td>\n",
       "      <td>0933202308141238423944</td>\n",
       "      <td>933</td>\n",
       "      <td>2023-08-14</td>\n",
       "      <td>0</td>\n",
       "      <td>no</td>\n",
       "    </tr>\n",
       "  </tbody>\n",
       "</table>\n",
       "</div>"
      ],
      "text/plain": [
       "   Unnamed: 0  call_id  outlet_id  is_stock_taken           transactionid  \\\n",
       "0           0  1000006     146762           False  2110202308141245227853   \n",
       "1           1  1000010       5432            True  0068202308141245595634   \n",
       "2           2  1000012     145279           False  2036202308141245582475   \n",
       "3           3  1000013     113532           False  2184202308141246321842   \n",
       "4           4  1000017     124292           False  0933202308141238423944   \n",
       "\n",
       "   user_id     fordate  order_id order_placed  \n",
       "0     2110  2023-08-14         0           no  \n",
       "1       68  2023-08-14         0           no  \n",
       "2     2036  2023-08-14         0           no  \n",
       "3     2184  2023-08-14    466094          yes  \n",
       "4      933  2023-08-14         0           no  "
      ]
     },
     "execution_count": 246,
     "metadata": {},
     "output_type": "execute_result"
    }
   ],
   "source": [
    "call_df = pd.read_csv('training_data1.csv')\n",
    "# call_df=call_df.iloc[:,1:]\n",
    "print(len(call_df))\n",
    "call_df.head()"
   ]
  },
  {
   "cell_type": "code",
   "execution_count": 247,
   "metadata": {},
   "outputs": [
    {
     "data": {
      "text/plain": [
       "outlet_id\n",
       "146495    85\n",
       "137709    84\n",
       "89099     82\n",
       "137897    81\n",
       "137710    81\n",
       "          ..\n",
       "135431    11\n",
       "89175     11\n",
       "122773    11\n",
       "101385    11\n",
       "142396    11\n",
       "Name: count, Length: 8596, dtype: int64"
      ]
     },
     "execution_count": 247,
     "metadata": {},
     "output_type": "execute_result"
    }
   ],
   "source": [
    "call_df.outlet_id.value_counts()"
   ]
  },
  {
   "cell_type": "code",
   "execution_count": 248,
   "metadata": {},
   "outputs": [],
   "source": [
    "# cd1 = call_df[call_df['138078']==0]\n",
    "# print(len(cd1))\n",
    "# cd1.head()"
   ]
  },
  {
   "cell_type": "code",
   "execution_count": 249,
   "metadata": {},
   "outputs": [
    {
     "data": {
      "text/plain": [
       "'2023-07-10'"
      ]
     },
     "execution_count": 249,
     "metadata": {},
     "output_type": "execute_result"
    }
   ],
   "source": [
    "call_df.fordate.min()"
   ]
  },
  {
   "cell_type": "code",
   "execution_count": 250,
   "metadata": {},
   "outputs": [
    {
     "data": {
      "text/plain": [
       "Index(['Unnamed: 0', 'call_id', 'outlet_id', 'is_stock_taken', 'transactionid',\n",
       "       'user_id', 'fordate', 'order_id', 'order_placed'],\n",
       "      dtype='object')"
      ]
     },
     "execution_count": 250,
     "metadata": {},
     "output_type": "execute_result"
    }
   ],
   "source": [
    "call_df.columns"
   ]
  },
  {
   "cell_type": "code",
   "execution_count": 251,
   "metadata": {},
   "outputs": [],
   "source": [
    "call_df=call_df.drop(['Unnamed: 0', 'call_id', 'is_stock_taken', 'transactionid','user_id'],axis=1)"
   ]
  },
  {
   "cell_type": "code",
   "execution_count": 252,
   "metadata": {},
   "outputs": [
    {
     "data": {
      "text/html": [
       "<div>\n",
       "<style scoped>\n",
       "    .dataframe tbody tr th:only-of-type {\n",
       "        vertical-align: middle;\n",
       "    }\n",
       "\n",
       "    .dataframe tbody tr th {\n",
       "        vertical-align: top;\n",
       "    }\n",
       "\n",
       "    .dataframe thead th {\n",
       "        text-align: right;\n",
       "    }\n",
       "</style>\n",
       "<table border=\"1\" class=\"dataframe\">\n",
       "  <thead>\n",
       "    <tr style=\"text-align: right;\">\n",
       "      <th></th>\n",
       "      <th>outlet_id</th>\n",
       "      <th>balance</th>\n",
       "      <th>total_quantity</th>\n",
       "      <th>total_price</th>\n",
       "      <th>...</th>\n",
       "      <th>city</th>\n",
       "      <th>pin</th>\n",
       "      <th>state</th>\n",
       "      <th>outletcategory</th>\n",
       "    </tr>\n",
       "  </thead>\n",
       "  <tbody>\n",
       "    <tr>\n",
       "      <th>0</th>\n",
       "      <td>713</td>\n",
       "      <td>36453</td>\n",
       "      <td>8</td>\n",
       "      <td>1403</td>\n",
       "      <td>...</td>\n",
       "      <td>Kalyan</td>\n",
       "      <td>421306.0</td>\n",
       "      <td>MAHARASHTRA</td>\n",
       "      <td>Kirana / Grocery / General Store</td>\n",
       "    </tr>\n",
       "    <tr>\n",
       "      <th>1</th>\n",
       "      <td>1542</td>\n",
       "      <td>120363</td>\n",
       "      <td>6</td>\n",
       "      <td>1081</td>\n",
       "      <td>...</td>\n",
       "      <td>Bhiwandi</td>\n",
       "      <td>421302.0</td>\n",
       "      <td>MAHARASHTRA</td>\n",
       "      <td>Kirana / Grocery / General Store</td>\n",
       "    </tr>\n",
       "    <tr>\n",
       "      <th>2</th>\n",
       "      <td>1697</td>\n",
       "      <td>0</td>\n",
       "      <td>6</td>\n",
       "      <td>1148</td>\n",
       "      <td>...</td>\n",
       "      <td>NaN</td>\n",
       "      <td>NaN</td>\n",
       "      <td>NaN</td>\n",
       "      <td>NaN</td>\n",
       "    </tr>\n",
       "    <tr>\n",
       "      <th>3</th>\n",
       "      <td>2298</td>\n",
       "      <td>14900</td>\n",
       "      <td>22</td>\n",
       "      <td>3165</td>\n",
       "      <td>...</td>\n",
       "      <td>Palghar</td>\n",
       "      <td>401404.0</td>\n",
       "      <td>MAHARASHTRA</td>\n",
       "      <td>Kirana / Grocery / General Store</td>\n",
       "    </tr>\n",
       "    <tr>\n",
       "      <th>4</th>\n",
       "      <td>2299</td>\n",
       "      <td>21852</td>\n",
       "      <td>15</td>\n",
       "      <td>2751</td>\n",
       "      <td>...</td>\n",
       "      <td>Palghar</td>\n",
       "      <td>NaN</td>\n",
       "      <td>MAHARASHTRA</td>\n",
       "      <td>Kirana / Grocery / General Store</td>\n",
       "    </tr>\n",
       "  </tbody>\n",
       "</table>\n",
       "<p>5 rows × 17 columns</p>\n",
       "</div>"
      ],
      "text/plain": [
       "   outlet_id  balance  total_quantity  total_price  ...      city       pin  \\\n",
       "0        713    36453               8         1403  ...    Kalyan  421306.0   \n",
       "1       1542   120363               6         1081  ...  Bhiwandi  421302.0   \n",
       "2       1697        0               6         1148  ...       NaN       NaN   \n",
       "3       2298    14900              22         3165  ...   Palghar  401404.0   \n",
       "4       2299    21852              15         2751  ...   Palghar       NaN   \n",
       "\n",
       "         state                    outletcategory  \n",
       "0  MAHARASHTRA  Kirana / Grocery / General Store  \n",
       "1  MAHARASHTRA  Kirana / Grocery / General Store  \n",
       "2          NaN                               NaN  \n",
       "3  MAHARASHTRA  Kirana / Grocery / General Store  \n",
       "4  MAHARASHTRA  Kirana / Grocery / General Store  \n",
       "\n",
       "[5 rows x 17 columns]"
      ]
     },
     "execution_count": 252,
     "metadata": {},
     "output_type": "execute_result"
    }
   ],
   "source": [
    "outlet_data = pd.read_csv(\"outlet_data.csv\")\n",
    "outlet_data=outlet_data.iloc[:,1:]\n",
    "outlet_data.head()"
   ]
  },
  {
   "cell_type": "code",
   "execution_count": 253,
   "metadata": {},
   "outputs": [
    {
     "data": {
      "text/plain": [
       "city\n",
       "Hubballi        558\n",
       "Bangalore       475\n",
       "Belagavi        390\n",
       "Navi Mumbai     307\n",
       "SANGLI          180\n",
       "               ... \n",
       "Lohara            1\n",
       "SHRINGARTALI      1\n",
       "Gondawale         1\n",
       "Siddapur          1\n",
       "Sankeshwar        1\n",
       "Name: count, Length: 123, dtype: int64"
      ]
     },
     "execution_count": 253,
     "metadata": {},
     "output_type": "execute_result"
    }
   ],
   "source": [
    "outlet_data.city.value_counts()"
   ]
  },
  {
   "cell_type": "code",
   "execution_count": 254,
   "metadata": {},
   "outputs": [],
   "source": [
    "outlet_data['outletcategory']=outlet_data['outletcategory'].fillna('Kirana / Grocery / General Store')"
   ]
  },
  {
   "cell_type": "code",
   "execution_count": 255,
   "metadata": {},
   "outputs": [
    {
     "data": {
      "text/plain": [
       "Index(['outlet_id', 'balance', 'total_quantity', 'total_price',\n",
       "       'order_frequency_avg', 'days_late_delivery_avg',\n",
       "       'days_until_delivery_avg', 'ordering_pattern_mode', 'high_qty_high_amt',\n",
       "       'high_qty_less_amt', 'less_qty_high_amt', 'less_qty_less_amt',\n",
       "       'beat_name', 'city', 'pin', 'state', 'outletcategory'],\n",
       "      dtype='object')"
      ]
     },
     "execution_count": 255,
     "metadata": {},
     "output_type": "execute_result"
    }
   ],
   "source": [
    "outlet_data.columns"
   ]
  },
  {
   "cell_type": "code",
   "execution_count": 256,
   "metadata": {},
   "outputs": [],
   "source": [
    "outlet_data = outlet_data.drop(['beat_name', 'city', 'pin', 'state'],axis=1)"
   ]
  },
  {
   "cell_type": "code",
   "execution_count": 257,
   "metadata": {},
   "outputs": [
    {
     "name": "stdout",
     "output_type": "stream",
     "text": [
      "199972\n"
     ]
    },
    {
     "data": {
      "text/html": [
       "<div>\n",
       "<style scoped>\n",
       "    .dataframe tbody tr th:only-of-type {\n",
       "        vertical-align: middle;\n",
       "    }\n",
       "\n",
       "    .dataframe tbody tr th {\n",
       "        vertical-align: top;\n",
       "    }\n",
       "\n",
       "    .dataframe thead th {\n",
       "        text-align: right;\n",
       "    }\n",
       "</style>\n",
       "<table border=\"1\" class=\"dataframe\">\n",
       "  <thead>\n",
       "    <tr style=\"text-align: right;\">\n",
       "      <th></th>\n",
       "      <th>outlet_id</th>\n",
       "      <th>fordate</th>\n",
       "      <th>order_id</th>\n",
       "      <th>order_placed</th>\n",
       "      <th>...</th>\n",
       "      <th>high_qty_less_amt</th>\n",
       "      <th>less_qty_high_amt</th>\n",
       "      <th>less_qty_less_amt</th>\n",
       "      <th>outletcategory</th>\n",
       "    </tr>\n",
       "  </thead>\n",
       "  <tbody>\n",
       "    <tr>\n",
       "      <th>0</th>\n",
       "      <td>146762</td>\n",
       "      <td>2023-08-14</td>\n",
       "      <td>0</td>\n",
       "      <td>no</td>\n",
       "      <td>...</td>\n",
       "      <td>1</td>\n",
       "      <td>0</td>\n",
       "      <td>12</td>\n",
       "      <td>Kirana / Grocery / General Store</td>\n",
       "    </tr>\n",
       "    <tr>\n",
       "      <th>1</th>\n",
       "      <td>146762</td>\n",
       "      <td>2023-08-21</td>\n",
       "      <td>0</td>\n",
       "      <td>no</td>\n",
       "      <td>...</td>\n",
       "      <td>1</td>\n",
       "      <td>0</td>\n",
       "      <td>12</td>\n",
       "      <td>Kirana / Grocery / General Store</td>\n",
       "    </tr>\n",
       "    <tr>\n",
       "      <th>2</th>\n",
       "      <td>146762</td>\n",
       "      <td>2023-08-28</td>\n",
       "      <td>0</td>\n",
       "      <td>no</td>\n",
       "      <td>...</td>\n",
       "      <td>1</td>\n",
       "      <td>0</td>\n",
       "      <td>12</td>\n",
       "      <td>Kirana / Grocery / General Store</td>\n",
       "    </tr>\n",
       "    <tr>\n",
       "      <th>3</th>\n",
       "      <td>146762</td>\n",
       "      <td>2023-09-04</td>\n",
       "      <td>496634</td>\n",
       "      <td>yes</td>\n",
       "      <td>...</td>\n",
       "      <td>1</td>\n",
       "      <td>0</td>\n",
       "      <td>12</td>\n",
       "      <td>Kirana / Grocery / General Store</td>\n",
       "    </tr>\n",
       "    <tr>\n",
       "      <th>4</th>\n",
       "      <td>146762</td>\n",
       "      <td>2023-09-25</td>\n",
       "      <td>528379</td>\n",
       "      <td>yes</td>\n",
       "      <td>...</td>\n",
       "      <td>1</td>\n",
       "      <td>0</td>\n",
       "      <td>12</td>\n",
       "      <td>Kirana / Grocery / General Store</td>\n",
       "    </tr>\n",
       "  </tbody>\n",
       "</table>\n",
       "<p>5 rows × 16 columns</p>\n",
       "</div>"
      ],
      "text/plain": [
       "   outlet_id     fordate  order_id order_placed  ...  high_qty_less_amt  \\\n",
       "0     146762  2023-08-14         0           no  ...                  1   \n",
       "1     146762  2023-08-21         0           no  ...                  1   \n",
       "2     146762  2023-08-28         0           no  ...                  1   \n",
       "3     146762  2023-09-04    496634          yes  ...                  1   \n",
       "4     146762  2023-09-25    528379          yes  ...                  1   \n",
       "\n",
       "   less_qty_high_amt  less_qty_less_amt                    outletcategory  \n",
       "0                  0                 12  Kirana / Grocery / General Store  \n",
       "1                  0                 12  Kirana / Grocery / General Store  \n",
       "2                  0                 12  Kirana / Grocery / General Store  \n",
       "3                  0                 12  Kirana / Grocery / General Store  \n",
       "4                  0                 12  Kirana / Grocery / General Store  \n",
       "\n",
       "[5 rows x 16 columns]"
      ]
     },
     "execution_count": 257,
     "metadata": {},
     "output_type": "execute_result"
    }
   ],
   "source": [
    "df1 = pd.merge(call_df,outlet_data,how='inner',on='outlet_id')\n",
    "print(len(df1))\n",
    "df1.head()"
   ]
  },
  {
   "cell_type": "code",
   "execution_count": 258,
   "metadata": {},
   "outputs": [
    {
     "data": {
      "text/html": [
       "<div>\n",
       "<style scoped>\n",
       "    .dataframe tbody tr th:only-of-type {\n",
       "        vertical-align: middle;\n",
       "    }\n",
       "\n",
       "    .dataframe tbody tr th {\n",
       "        vertical-align: top;\n",
       "    }\n",
       "\n",
       "    .dataframe thead th {\n",
       "        text-align: right;\n",
       "    }\n",
       "</style>\n",
       "<table border=\"1\" class=\"dataframe\">\n",
       "  <thead>\n",
       "    <tr style=\"text-align: right;\">\n",
       "      <th></th>\n",
       "      <th>outlet_id</th>\n",
       "      <th>fordate</th>\n",
       "      <th>order_id</th>\n",
       "      <th>order_placed</th>\n",
       "      <th>...</th>\n",
       "      <th>high_qty_less_amt</th>\n",
       "      <th>less_qty_high_amt</th>\n",
       "      <th>less_qty_less_amt</th>\n",
       "      <th>outletcategory</th>\n",
       "    </tr>\n",
       "  </thead>\n",
       "  <tbody>\n",
       "    <tr>\n",
       "      <th>0</th>\n",
       "      <td>146762</td>\n",
       "      <td>2023-08-14</td>\n",
       "      <td>0</td>\n",
       "      <td>no</td>\n",
       "      <td>...</td>\n",
       "      <td>1</td>\n",
       "      <td>0</td>\n",
       "      <td>12</td>\n",
       "      <td>Kirana / Grocery / General Store</td>\n",
       "    </tr>\n",
       "    <tr>\n",
       "      <th>1</th>\n",
       "      <td>146762</td>\n",
       "      <td>2023-08-21</td>\n",
       "      <td>0</td>\n",
       "      <td>no</td>\n",
       "      <td>...</td>\n",
       "      <td>1</td>\n",
       "      <td>0</td>\n",
       "      <td>12</td>\n",
       "      <td>Kirana / Grocery / General Store</td>\n",
       "    </tr>\n",
       "    <tr>\n",
       "      <th>2</th>\n",
       "      <td>146762</td>\n",
       "      <td>2023-08-28</td>\n",
       "      <td>0</td>\n",
       "      <td>no</td>\n",
       "      <td>...</td>\n",
       "      <td>1</td>\n",
       "      <td>0</td>\n",
       "      <td>12</td>\n",
       "      <td>Kirana / Grocery / General Store</td>\n",
       "    </tr>\n",
       "    <tr>\n",
       "      <th>3</th>\n",
       "      <td>146762</td>\n",
       "      <td>2023-09-04</td>\n",
       "      <td>496634</td>\n",
       "      <td>yes</td>\n",
       "      <td>...</td>\n",
       "      <td>1</td>\n",
       "      <td>0</td>\n",
       "      <td>12</td>\n",
       "      <td>Kirana / Grocery / General Store</td>\n",
       "    </tr>\n",
       "    <tr>\n",
       "      <th>4</th>\n",
       "      <td>146762</td>\n",
       "      <td>2023-09-25</td>\n",
       "      <td>528379</td>\n",
       "      <td>yes</td>\n",
       "      <td>...</td>\n",
       "      <td>1</td>\n",
       "      <td>0</td>\n",
       "      <td>12</td>\n",
       "      <td>Kirana / Grocery / General Store</td>\n",
       "    </tr>\n",
       "  </tbody>\n",
       "</table>\n",
       "<p>5 rows × 16 columns</p>\n",
       "</div>"
      ],
      "text/plain": [
       "   outlet_id     fordate  order_id order_placed  ...  high_qty_less_amt  \\\n",
       "0     146762  2023-08-14         0           no  ...                  1   \n",
       "1     146762  2023-08-21         0           no  ...                  1   \n",
       "2     146762  2023-08-28         0           no  ...                  1   \n",
       "3     146762  2023-09-04    496634          yes  ...                  1   \n",
       "4     146762  2023-09-25    528379          yes  ...                  1   \n",
       "\n",
       "   less_qty_high_amt  less_qty_less_amt                    outletcategory  \n",
       "0                  0                 12  Kirana / Grocery / General Store  \n",
       "1                  0                 12  Kirana / Grocery / General Store  \n",
       "2                  0                 12  Kirana / Grocery / General Store  \n",
       "3                  0                 12  Kirana / Grocery / General Store  \n",
       "4                  0                 12  Kirana / Grocery / General Store  \n",
       "\n",
       "[5 rows x 16 columns]"
      ]
     },
     "execution_count": 258,
     "metadata": {},
     "output_type": "execute_result"
    }
   ],
   "source": [
    "df1.head()"
   ]
  },
  {
   "cell_type": "code",
   "execution_count": 259,
   "metadata": {},
   "outputs": [],
   "source": [
    "df2 = df1.copy()"
   ]
  },
  {
   "cell_type": "code",
   "execution_count": 260,
   "metadata": {},
   "outputs": [],
   "source": [
    "# df2.set_index('fordate', inplace=True)\n",
    " \n",
    "# df2.sort_values(by=['outlet_id', df2.index.name], inplace=True)\n",
    "# rolling_counts = df2.groupby('outlet_id').rolling(window='15D').count()\n",
    " \n",
    "# # Remove the 'outlet_id' level from the index to allow for easier merging\n",
    "# rolling_counts = rolling_counts.reset_index()\n",
    " \n",
    "# # Rename the count column to '15_days_orders_count' and adjust any specific column if necessary\n",
    "# rolling_counts.rename(columns={'order_count': '15_days_orders_count'}, inplace=True)\n",
    " \n",
    "# # Merge the rolling counts with the original DataFrame\n",
    "# # First, reset the index of the main DataFrame if you haven't already\n",
    "# df2.reset_index(inplace=True)\n",
    "# merged_df2 = pd.merge(df2, rolling_counts, on=['outlet_id', 'fordate'], how='left')\n",
    "# merged_df2"
   ]
  },
  {
   "cell_type": "code",
   "execution_count": 261,
   "metadata": {},
   "outputs": [],
   "source": [
    "outlet_frequency = df1['outlet_id'].value_counts(normalize=True)\n",
    "df1['outlet_frequency'] = df1['outlet_id'].map(outlet_frequency)"
   ]
  },
  {
   "cell_type": "code",
   "execution_count": 262,
   "metadata": {},
   "outputs": [],
   "source": [
    "df1['fordate'] = pd.to_datetime(df1['fordate'])\n",
    "df1['days_since_recent_order'] = df1.groupby('outlet_id')['fordate'].transform(lambda x: (pd.Timestamp.now() - x.max()).days)"
   ]
  },
  {
   "cell_type": "code",
   "execution_count": 263,
   "metadata": {},
   "outputs": [],
   "source": [
    "import pandas as pd\n",
    "\n",
    "df1['fordate'] = pd.to_datetime(df1['fordate'])\n",
    "\n",
    "def categorize_month(day):\n",
    "    if day.day <= 10:\n",
    "        return 'start_of_month'\n",
    "    elif day.day <= 20:\n",
    "        return 'mid_of_month'\n",
    "    else:\n",
    "        return 'end_of_month'\n",
    "\n",
    "df1['month_category'] = df1['fordate'].apply(categorize_month)\n"
   ]
  },
  {
   "cell_type": "code",
   "execution_count": 264,
   "metadata": {},
   "outputs": [
    {
     "data": {
      "text/html": [
       "<div>\n",
       "<style scoped>\n",
       "    .dataframe tbody tr th:only-of-type {\n",
       "        vertical-align: middle;\n",
       "    }\n",
       "\n",
       "    .dataframe tbody tr th {\n",
       "        vertical-align: top;\n",
       "    }\n",
       "\n",
       "    .dataframe thead th {\n",
       "        text-align: right;\n",
       "    }\n",
       "</style>\n",
       "<table border=\"1\" class=\"dataframe\">\n",
       "  <thead>\n",
       "    <tr style=\"text-align: right;\">\n",
       "      <th></th>\n",
       "      <th>outlet_id</th>\n",
       "      <th>fordate</th>\n",
       "      <th>order_id</th>\n",
       "      <th>order_placed</th>\n",
       "      <th>...</th>\n",
       "      <th>day_of_week</th>\n",
       "      <th>month_of_year</th>\n",
       "      <th>quarter</th>\n",
       "      <th>week_of_year</th>\n",
       "    </tr>\n",
       "  </thead>\n",
       "  <tbody>\n",
       "    <tr>\n",
       "      <th>0</th>\n",
       "      <td>146762</td>\n",
       "      <td>2023-08-14</td>\n",
       "      <td>0</td>\n",
       "      <td>no</td>\n",
       "      <td>...</td>\n",
       "      <td>0</td>\n",
       "      <td>8</td>\n",
       "      <td>3</td>\n",
       "      <td>33</td>\n",
       "    </tr>\n",
       "    <tr>\n",
       "      <th>1</th>\n",
       "      <td>146762</td>\n",
       "      <td>2023-08-21</td>\n",
       "      <td>0</td>\n",
       "      <td>no</td>\n",
       "      <td>...</td>\n",
       "      <td>0</td>\n",
       "      <td>8</td>\n",
       "      <td>3</td>\n",
       "      <td>34</td>\n",
       "    </tr>\n",
       "    <tr>\n",
       "      <th>2</th>\n",
       "      <td>146762</td>\n",
       "      <td>2023-08-28</td>\n",
       "      <td>0</td>\n",
       "      <td>no</td>\n",
       "      <td>...</td>\n",
       "      <td>0</td>\n",
       "      <td>8</td>\n",
       "      <td>3</td>\n",
       "      <td>35</td>\n",
       "    </tr>\n",
       "    <tr>\n",
       "      <th>3</th>\n",
       "      <td>146762</td>\n",
       "      <td>2023-09-04</td>\n",
       "      <td>496634</td>\n",
       "      <td>yes</td>\n",
       "      <td>...</td>\n",
       "      <td>0</td>\n",
       "      <td>9</td>\n",
       "      <td>3</td>\n",
       "      <td>36</td>\n",
       "    </tr>\n",
       "    <tr>\n",
       "      <th>4</th>\n",
       "      <td>146762</td>\n",
       "      <td>2023-09-25</td>\n",
       "      <td>528379</td>\n",
       "      <td>yes</td>\n",
       "      <td>...</td>\n",
       "      <td>0</td>\n",
       "      <td>9</td>\n",
       "      <td>3</td>\n",
       "      <td>39</td>\n",
       "    </tr>\n",
       "  </tbody>\n",
       "</table>\n",
       "<p>5 rows × 24 columns</p>\n",
       "</div>"
      ],
      "text/plain": [
       "   outlet_id    fordate  order_id order_placed  ...  day_of_week  \\\n",
       "0     146762 2023-08-14         0           no  ...            0   \n",
       "1     146762 2023-08-21         0           no  ...            0   \n",
       "2     146762 2023-08-28         0           no  ...            0   \n",
       "3     146762 2023-09-04    496634          yes  ...            0   \n",
       "4     146762 2023-09-25    528379          yes  ...            0   \n",
       "\n",
       "   month_of_year  quarter  week_of_year  \n",
       "0              8        3            33  \n",
       "1              8        3            34  \n",
       "2              8        3            35  \n",
       "3              9        3            36  \n",
       "4              9        3            39  \n",
       "\n",
       "[5 rows x 24 columns]"
      ]
     },
     "execution_count": 264,
     "metadata": {},
     "output_type": "execute_result"
    }
   ],
   "source": [
    "df1['fordate'] = pd.to_datetime(df1['fordate'])\n",
    "df1['call_frequency'] = df1.groupby('outlet_id')['fordate'].diff().dt.days.fillna(0)\n",
    "df1['day_of_week'] = df1['fordate'].dt.day_of_week\n",
    "df1['month_of_year'] = df1['fordate'].dt.month\n",
    "# capturing seasonal trends that might affect the data\n",
    "df1['quarter'] = df1['fordate'].dt.quarter\n",
    "# useful for capturing weekly seasonal patterns \n",
    "df1['week_of_year'] = df1['fordate'].dt.isocalendar().week\n",
    "# # some businesses might see increased activity at the beginning or end of the month due to payday or monthly reporting periods\n",
    "# df1['is_month_start'] = df1['fordate'].dt.is_month_start\n",
    "# df1['is_month_end'] = df1['fordate'].dt.is_month_end\n",
    "# df1['is_month_start'] = df1['is_month_start'].astype(int)\n",
    "# df1['is_month_end'] = df1['is_month_end'].astype(int)\n",
    "\n",
    "\n",
    "\n",
    "df1.head()"
   ]
  },
  {
   "cell_type": "code",
   "execution_count": 265,
   "metadata": {},
   "outputs": [
    {
     "data": {
      "text/plain": [
       "Index(['outlet_id', 'fordate', 'order_id', 'order_placed', 'balance',\n",
       "       'total_quantity', 'total_price', 'order_frequency_avg',\n",
       "       'days_late_delivery_avg', 'days_until_delivery_avg',\n",
       "       'ordering_pattern_mode', 'high_qty_high_amt', 'high_qty_less_amt',\n",
       "       'less_qty_high_amt', 'less_qty_less_amt', 'outletcategory',\n",
       "       'outlet_frequency', 'days_since_recent_order', 'month_category',\n",
       "       'call_frequency', 'day_of_week', 'month_of_year', 'quarter',\n",
       "       'week_of_year'],\n",
       "      dtype='object')"
      ]
     },
     "execution_count": 265,
     "metadata": {},
     "output_type": "execute_result"
    }
   ],
   "source": [
    "df1.columns"
   ]
  },
  {
   "cell_type": "code",
   "execution_count": 266,
   "metadata": {},
   "outputs": [
    {
     "data": {
      "text/plain": [
       "outlet_frequency\n",
       "0.000125    23175\n",
       "0.000120    21120\n",
       "0.000115    18193\n",
       "0.000130    17264\n",
       "0.000110    15422\n",
       "            ...  \n",
       "0.000390       78\n",
       "0.000360       72\n",
       "0.000355       71\n",
       "0.000335       67\n",
       "0.000325       65\n",
       "Name: count, Length: 70, dtype: int64"
      ]
     },
     "execution_count": 266,
     "metadata": {},
     "output_type": "execute_result"
    }
   ],
   "source": [
    "df1.outlet_frequency.value_counts()\n"
   ]
  },
  {
   "cell_type": "code",
   "execution_count": 267,
   "metadata": {},
   "outputs": [
    {
     "data": {
      "text/html": [
       "<div>\n",
       "<style scoped>\n",
       "    .dataframe tbody tr th:only-of-type {\n",
       "        vertical-align: middle;\n",
       "    }\n",
       "\n",
       "    .dataframe tbody tr th {\n",
       "        vertical-align: top;\n",
       "    }\n",
       "\n",
       "    .dataframe thead th {\n",
       "        text-align: right;\n",
       "    }\n",
       "</style>\n",
       "<table border=\"1\" class=\"dataframe\">\n",
       "  <thead>\n",
       "    <tr style=\"text-align: right;\">\n",
       "      <th></th>\n",
       "      <th>outlet_id</th>\n",
       "      <th>balance</th>\n",
       "      <th>total_quantity</th>\n",
       "      <th>total_price</th>\n",
       "      <th>...</th>\n",
       "      <th>high_qty_less_amt</th>\n",
       "      <th>less_qty_high_amt</th>\n",
       "      <th>less_qty_less_amt</th>\n",
       "      <th>outletcategory</th>\n",
       "    </tr>\n",
       "  </thead>\n",
       "  <tbody>\n",
       "  </tbody>\n",
       "</table>\n",
       "<p>0 rows × 13 columns</p>\n",
       "</div>"
      ],
      "text/plain": [
       "Empty DataFrame\n",
       "Columns: [outlet_id, balance, total_quantity, total_price, order_frequency_avg, days_late_delivery_avg, days_until_delivery_avg, ordering_pattern_mode, high_qty_high_amt, high_qty_less_amt, less_qty_high_amt, less_qty_less_amt, outletcategory]\n",
       "Index: []\n",
       "\n",
       "[0 rows x 13 columns]"
      ]
     },
     "execution_count": 267,
     "metadata": {},
     "output_type": "execute_result"
    }
   ],
   "source": [
    "# ot2.to_csv(\"false_stock_order_ids.csv\")\n",
    "ot3 =outlet_data[outlet_data['outlet_id']==158685]\n",
    "ot3"
   ]
  },
  {
   "cell_type": "code",
   "execution_count": 268,
   "metadata": {},
   "outputs": [],
   "source": [
    "final_df = df1"
   ]
  },
  {
   "cell_type": "code",
   "execution_count": 269,
   "metadata": {},
   "outputs": [
    {
     "data": {
      "text/html": [
       "<div>\n",
       "<style scoped>\n",
       "    .dataframe tbody tr th:only-of-type {\n",
       "        vertical-align: middle;\n",
       "    }\n",
       "\n",
       "    .dataframe tbody tr th {\n",
       "        vertical-align: top;\n",
       "    }\n",
       "\n",
       "    .dataframe thead th {\n",
       "        text-align: right;\n",
       "    }\n",
       "</style>\n",
       "<table border=\"1\" class=\"dataframe\">\n",
       "  <thead>\n",
       "    <tr style=\"text-align: right;\">\n",
       "      <th></th>\n",
       "      <th>outlet_id</th>\n",
       "      <th>fordate</th>\n",
       "      <th>order_id</th>\n",
       "      <th>order_placed</th>\n",
       "      <th>...</th>\n",
       "      <th>day_of_week</th>\n",
       "      <th>month_of_year</th>\n",
       "      <th>quarter</th>\n",
       "      <th>week_of_year</th>\n",
       "    </tr>\n",
       "  </thead>\n",
       "  <tbody>\n",
       "    <tr>\n",
       "      <th>0</th>\n",
       "      <td>146762</td>\n",
       "      <td>2023-08-14</td>\n",
       "      <td>0</td>\n",
       "      <td>0</td>\n",
       "      <td>...</td>\n",
       "      <td>0</td>\n",
       "      <td>8</td>\n",
       "      <td>3</td>\n",
       "      <td>33</td>\n",
       "    </tr>\n",
       "    <tr>\n",
       "      <th>1</th>\n",
       "      <td>146762</td>\n",
       "      <td>2023-08-21</td>\n",
       "      <td>0</td>\n",
       "      <td>0</td>\n",
       "      <td>...</td>\n",
       "      <td>0</td>\n",
       "      <td>8</td>\n",
       "      <td>3</td>\n",
       "      <td>34</td>\n",
       "    </tr>\n",
       "    <tr>\n",
       "      <th>2</th>\n",
       "      <td>146762</td>\n",
       "      <td>2023-08-28</td>\n",
       "      <td>0</td>\n",
       "      <td>0</td>\n",
       "      <td>...</td>\n",
       "      <td>0</td>\n",
       "      <td>8</td>\n",
       "      <td>3</td>\n",
       "      <td>35</td>\n",
       "    </tr>\n",
       "    <tr>\n",
       "      <th>3</th>\n",
       "      <td>146762</td>\n",
       "      <td>2023-09-04</td>\n",
       "      <td>496634</td>\n",
       "      <td>1</td>\n",
       "      <td>...</td>\n",
       "      <td>0</td>\n",
       "      <td>9</td>\n",
       "      <td>3</td>\n",
       "      <td>36</td>\n",
       "    </tr>\n",
       "    <tr>\n",
       "      <th>4</th>\n",
       "      <td>146762</td>\n",
       "      <td>2023-09-25</td>\n",
       "      <td>528379</td>\n",
       "      <td>1</td>\n",
       "      <td>...</td>\n",
       "      <td>0</td>\n",
       "      <td>9</td>\n",
       "      <td>3</td>\n",
       "      <td>39</td>\n",
       "    </tr>\n",
       "  </tbody>\n",
       "</table>\n",
       "<p>5 rows × 24 columns</p>\n",
       "</div>"
      ],
      "text/plain": [
       "   outlet_id    fordate  order_id  order_placed  ...  day_of_week  \\\n",
       "0     146762 2023-08-14         0             0  ...            0   \n",
       "1     146762 2023-08-21         0             0  ...            0   \n",
       "2     146762 2023-08-28         0             0  ...            0   \n",
       "3     146762 2023-09-04    496634             1  ...            0   \n",
       "4     146762 2023-09-25    528379             1  ...            0   \n",
       "\n",
       "   month_of_year  quarter  week_of_year  \n",
       "0              8        3            33  \n",
       "1              8        3            34  \n",
       "2              8        3            35  \n",
       "3              9        3            36  \n",
       "4              9        3            39  \n",
       "\n",
       "[5 rows x 24 columns]"
      ]
     },
     "execution_count": 269,
     "metadata": {},
     "output_type": "execute_result"
    }
   ],
   "source": [
    "ordering_pattern_mapping = {'Frequent': 3,'Regular': 2, 'Occasional': 1, 'Infrequent': 0}\n",
    "final_df[\"ordering_pattern_mode\"]= final_df['ordering_pattern_mode'].map(ordering_pattern_mapping)\n",
    "\n",
    "order_placed_mapping ={'yes':1,'no':0}\n",
    "final_df['order_placed'] =final_df['order_placed'].map(order_placed_mapping)\n",
    "\n",
    "month_cat_mapping ={'start_of_month':0,'mid_of_month':1,'end_of_month':2}\n",
    "final_df['month_category'] =final_df['month_category'].map(month_cat_mapping)\n",
    "\n",
    "outlet_cat_mapping = {'Self Service Store / Stand Alone / Super Market': 0,'HoReCa': 1,'Pan / Cigarette Shop / Tea Point': 2, \n",
    "                      'Bakery / Sweets & Snacks Shop / Juice Center': 3, 'Kirana / Grocery / General Store': 4,'Chemist / Medical Store':5,\n",
    "                      'Wholesaler':6,'Dairy / Ice Cream Parlour':7,'Oil Trader':8,'Liquor Shop':9,'Hospital':10}\n",
    "final_df[\"outletcategory\"]= final_df['outletcategory'].map(outlet_cat_mapping)\n",
    "\n",
    "final_df.head()"
   ]
  },
  {
   "cell_type": "code",
   "execution_count": 270,
   "metadata": {},
   "outputs": [],
   "source": [
    "# plt.figure(figsize=(10,5))\n",
    "# sns.heatmap(final_df.corr(),annot=True,cmap='RdYlBu_r')"
   ]
  },
  {
   "cell_type": "code",
   "execution_count": 271,
   "metadata": {},
   "outputs": [
    {
     "data": {
      "text/plain": [
       "Index(['outlet_id', 'fordate', 'order_id', 'order_placed', 'balance',\n",
       "       'total_quantity', 'total_price', 'order_frequency_avg',\n",
       "       'days_late_delivery_avg', 'days_until_delivery_avg',\n",
       "       'ordering_pattern_mode', 'high_qty_high_amt', 'high_qty_less_amt',\n",
       "       'less_qty_high_amt', 'less_qty_less_amt', 'outletcategory',\n",
       "       'outlet_frequency', 'days_since_recent_order', 'month_category',\n",
       "       'call_frequency', 'day_of_week', 'month_of_year', 'quarter',\n",
       "       'week_of_year'],\n",
       "      dtype='object')"
      ]
     },
     "execution_count": 271,
     "metadata": {},
     "output_type": "execute_result"
    }
   ],
   "source": [
    "# sns.pairplot(df)\n",
    "final_df.columns"
   ]
  },
  {
   "cell_type": "code",
   "execution_count": 272,
   "metadata": {},
   "outputs": [],
   "source": [
    "X = final_df.drop(['order_placed','fordate','days_late_delivery_avg','quarter','week_of_year','order_id','outlet_frequency','outlet_id',\n",
    "                   'outletcategory','days_until_delivery_avg'], axis=1)\n",
    "#'outletcategory','day_of_week','total_quantity','month_category','total_price'\n",
    "# 'order_placed','fordate','days_late_delivery_avg','quarter','week_of_year','order_id','outlet_frequency','outlet_id',\n",
    "y = final_df['order_placed']\n",
    "# days_until_delivery_avg  dropped based on extra tree classifier feature importance"
   ]
  },
  {
   "cell_type": "code",
   "execution_count": 273,
   "metadata": {},
   "outputs": [],
   "source": [
    "# X['outlet_id'] = X['outlet_id'].astype('category')\n",
    "# from category_encoders import TargetEncoder\n",
    "# encoder = TargetEncoder(cols=['outlet_id'],)\n",
    "# encoder.fit_transform(X, y)"
   ]
  },
  {
   "cell_type": "code",
   "execution_count": 274,
   "metadata": {},
   "outputs": [
    {
     "data": {
      "text/html": [
       "<div>\n",
       "<style scoped>\n",
       "    .dataframe tbody tr th:only-of-type {\n",
       "        vertical-align: middle;\n",
       "    }\n",
       "\n",
       "    .dataframe tbody tr th {\n",
       "        vertical-align: top;\n",
       "    }\n",
       "\n",
       "    .dataframe thead th {\n",
       "        text-align: right;\n",
       "    }\n",
       "</style>\n",
       "<table border=\"1\" class=\"dataframe\">\n",
       "  <thead>\n",
       "    <tr style=\"text-align: right;\">\n",
       "      <th></th>\n",
       "      <th>outlet_id</th>\n",
       "      <th>fordate</th>\n",
       "      <th>order_id</th>\n",
       "      <th>order_placed</th>\n",
       "      <th>...</th>\n",
       "      <th>day_of_week</th>\n",
       "      <th>month_of_year</th>\n",
       "      <th>quarter</th>\n",
       "      <th>week_of_year</th>\n",
       "    </tr>\n",
       "  </thead>\n",
       "  <tbody>\n",
       "  </tbody>\n",
       "</table>\n",
       "<p>0 rows × 24 columns</p>\n",
       "</div>"
      ],
      "text/plain": [
       "Empty DataFrame\n",
       "Columns: [outlet_id, fordate, order_id, order_placed, balance, total_quantity, total_price, order_frequency_avg, days_late_delivery_avg, days_until_delivery_avg, ordering_pattern_mode, high_qty_high_amt, high_qty_less_amt, less_qty_high_amt, less_qty_less_amt, outletcategory, outlet_frequency, days_since_recent_order, month_category, call_frequency, day_of_week, month_of_year, quarter, week_of_year]\n",
       "Index: []\n",
       "\n",
       "[0 rows x 24 columns]"
      ]
     },
     "execution_count": 274,
     "metadata": {},
     "output_type": "execute_result"
    }
   ],
   "source": [
    "df1[df1['order_id']==453737]"
   ]
  },
  {
   "cell_type": "code",
   "execution_count": 275,
   "metadata": {},
   "outputs": [],
   "source": [
    "# xdf =df1[df1['outlet_id']==151287]\n",
    "# print(len(xdf))\n",
    "# print(len(xdf[xdf['order_placed']==1]))\n",
    "# xdf"
   ]
  },
  {
   "cell_type": "code",
   "execution_count": 276,
   "metadata": {},
   "outputs": [],
   "source": [
    "X_train, X_test, y_train, y_test = train_test_split(X, y, test_size=0.2, random_state=42)"
   ]
  },
  {
   "cell_type": "code",
   "execution_count": 277,
   "metadata": {},
   "outputs": [],
   "source": [
    "# Standardize features\n",
    "scaler = StandardScaler()\n",
    "X_train = scaler.fit_transform(X_train)\n",
    "X_test = scaler.transform(X_test)"
   ]
  },
  {
   "cell_type": "code",
   "execution_count": 278,
   "metadata": {},
   "outputs": [
    {
     "name": "stdout",
     "output_type": "stream",
     "text": [
      "Counter({1: 105561, 0: 54416})\n"
     ]
    }
   ],
   "source": [
    "from collections import Counter\n",
    "counter = Counter(y_train)\n",
    "print(counter)"
   ]
  },
  {
   "cell_type": "code",
   "execution_count": 279,
   "metadata": {},
   "outputs": [],
   "source": [
    "# # oversampling using SMOTE\n",
    "# from imblearn.over_sampling import SMOTE\n",
    "# oversample = SMOTE()\n",
    "# X_train, y_train = oversample.fit_resample(X_train, y_train)\n",
    "# counter = Counter(y_train)\n",
    "# print(counter)"
   ]
  },
  {
   "cell_type": "markdown",
   "metadata": {},
   "source": [
    "#### Logistic Regression"
   ]
  },
  {
   "cell_type": "code",
   "execution_count": 280,
   "metadata": {},
   "outputs": [
    {
     "name": "stdout",
     "output_type": "stream",
     "text": [
      "Accuracy: 0.6615826978372297\n"
     ]
    }
   ],
   "source": [
    "from sklearn.linear_model  import LogisticRegression\n",
    "from sklearn.tree import DecisionTreeClassifier\n",
    "from sklearn.ensemble import RandomForestClassifier\n",
    "model = LogisticRegression()\n",
    "model.fit(X_train, y_train)\n",
    "accuracy = model.score(X_test, y_test)\n",
    "print(\"Accuracy:\", accuracy)"
   ]
  },
  {
   "cell_type": "markdown",
   "metadata": {},
   "source": [
    "#### SVM"
   ]
  },
  {
   "cell_type": "code",
   "execution_count": 281,
   "metadata": {},
   "outputs": [],
   "source": [
    "# from sklearn.svm import SVC\n",
    "# from sklearn.metrics import accuracy_score, classification_report, confusion_matrix, f1_score\n",
    "# #input  - kernel=\"rbf\", gamma=0.5, C=1.0\n",
    "# svm = SVC()\n",
    "# svm.fit(X_train, y_train)\n",
    "# y_pred = model.predict(X_test)\n",
    "# accuracy = accuracy_score(y_test, y_pred)\n",
    "# f1 = f1_score(y_test, y_pred)\n",
    "# report = classification_report(y_test, y_pred)\n",
    "# conf_matrix = confusion_matrix(y_test, y_pred)\n",
    "\n",
    "# print(f'Accuracy: {accuracy}')\n",
    "# print(f'F1 Score: {f1}')\n",
    "# print('Classification Report:')\n",
    "# print(report)\n",
    "# print('Confusion Matrix:')\n",
    "# print(conf_matrix)"
   ]
  },
  {
   "cell_type": "markdown",
   "metadata": {},
   "source": [
    "#### Random forest classifier"
   ]
  },
  {
   "cell_type": "code",
   "execution_count": 282,
   "metadata": {},
   "outputs": [],
   "source": [
    "# from sklearn.ensemble import RandomForestClassifier\n",
    "# model = RandomForestClassifier()\n",
    "# model.fit(X_train, y_train)\n",
    "# accuracy = model.score(X_test, y_test)\n",
    "# print(\"Accuracy:\", accuracy)\n",
    "# Accuracy: 0.6252477011903913\n",
    "# by dropping X = final_df.drop(['outlet_id','total_quantity', 'total_price','order_placed','fordate','days_late_delivery_avg','quarter','week_of_year','order_id','is_month_start', 'is_month_end'], axis=1)\n",
    "# y = final_df['order_placed']"
   ]
  },
  {
   "cell_type": "markdown",
   "metadata": {},
   "source": [
    "#### XGBoost classifier"
   ]
  },
  {
   "cell_type": "code",
   "execution_count": 283,
   "metadata": {},
   "outputs": [
    {
     "name": "stdout",
     "output_type": "stream",
     "text": [
      "\n",
      "accuracy_score on test dataset :  0.6923365420677585\n",
      "F1 Score: 0.7930854731036339\n",
      "Classification Report:\n",
      "              precision    recall  f1-score   support\n",
      "\n",
      "           0       0.59      0.30      0.40     13530\n",
      "           1       0.71      0.89      0.79     26465\n",
      "\n",
      "    accuracy                           0.69     39995\n",
      "   macro avg       0.65      0.60      0.60     39995\n",
      "weighted avg       0.67      0.69      0.66     39995\n",
      "\n",
      "Confusion Matrix:\n",
      "[[ 4108  9422]\n",
      " [ 2883 23582]]\n"
     ]
    }
   ],
   "source": [
    "import pandas as pd\n",
    "from xgboost import XGBClassifier\n",
    "from sklearn.metrics import accuracy_score,classification_report, confusion_matrix, f1_score\n",
    "\n",
    "model = XGBClassifier()\n",
    "model.fit(X_train,y_train)\n",
    "\n",
    "y_pred = model.predict(X_test)\n",
    "accuracy_test = accuracy_score(y_test,y_pred)\n",
    "print('\\naccuracy_score on test dataset : ', accuracy_test)\n",
    "f1 = f1_score(y_test, y_pred)\n",
    "report = classification_report(y_test, y_pred)\n",
    "conf_matrix = confusion_matrix(y_test, y_pred)\n",
    "print(f'F1 Score: {f1}')\n",
    "print('Classification Report:')\n",
    "print(report)\n",
    "print('Confusion Matrix:')\n",
    "print(conf_matrix)"
   ]
  },
  {
   "cell_type": "markdown",
   "metadata": {},
   "source": [
    "#### Extra tree classifier"
   ]
  },
  {
   "cell_type": "code",
   "execution_count": 284,
   "metadata": {},
   "outputs": [
    {
     "name": "stdout",
     "output_type": "stream",
     "text": [
      "Accuracy: 0.4635829478684836\n"
     ]
    }
   ],
   "source": [
    "from sklearn.ensemble import ExtraTreesClassifier\n",
    "extra_tree_forest = ExtraTreesClassifier(n_estimators = 5,criterion ='entropy', max_features = 2)\n",
    "\n",
    "extra_tree_forest.fit(X, y)\n",
    "feature_importance = extra_tree_forest.feature_importances_\n",
    "feature_importance_normalized = np.std([tree.feature_importances_ for tree in extra_tree_forest.estimators_],axis = 0)\n",
    "accuracy = extra_tree_forest.score(X_test, y_test)\n",
    "print(\"Accuracy:\", accuracy)"
   ]
  },
  {
   "cell_type": "code",
   "execution_count": 285,
   "metadata": {},
   "outputs": [
    {
     "name": "stdout",
     "output_type": "stream",
     "text": [
      "Feature: balance, Score: 0.06004\n",
      "Feature: total_quantity, Score: 0.06438\n",
      "Feature: total_price, Score: 0.07841\n",
      "Feature: order_frequency_avg, Score: 0.05901\n",
      "Feature: ordering_pattern_mode, Score: 0.00869\n",
      "Feature: high_qty_high_amt, Score: 0.04706\n",
      "Feature: high_qty_less_amt, Score: 0.03227\n",
      "Feature: less_qty_high_amt, Score: 0.03428\n",
      "Feature: less_qty_less_amt, Score: 0.04034\n",
      "Feature: days_since_recent_order, Score: 0.05147\n",
      "Feature: month_category, Score: 0.10131\n",
      "Feature: call_frequency, Score: 0.14708\n",
      "Feature: day_of_week, Score: 0.06851\n",
      "Feature: month_of_year, Score: 0.20715\n"
     ]
    },
    {
     "data": {
      "image/png": "[encoded data removed]",
      "text/plain": [
       "<Figure size 1000x600 with 1 Axes>"
      ]
     },
     "metadata": {},
     "output_type": "display_data"
    }
   ],
   "source": [
    "for i, v in enumerate(feature_importance):\n",
    "    print('Feature: %s, Score: %.5f' % (X.columns[i], v))\n",
    "plt.figure(figsize=(10, 6))\n",
    "plt.bar(X.columns, feature_importance)\n",
    "plt.xlabel('Feature Labels')\n",
    "plt.ylabel('Feature Importances')\n",
    "plt.title('Feature Importances with Extra Tree Classifier')\n",
    "plt.xticks(rotation=45, ha='right')\n",
    "plt.show()"
   ]
  },
  {
   "cell_type": "markdown",
   "metadata": {},
   "source": [
    "#### Prediction"
   ]
  },
  {
   "cell_type": "code",
   "execution_count": 286,
   "metadata": {},
   "outputs": [
    {
     "data": {
      "image/png": "[encoded data removed]",
      "text/plain": [
       "<Figure size 640x480 with 1 Axes>"
      ]
     },
     "metadata": {},
     "output_type": "display_data"
    }
   ],
   "source": [
    "from sklearn.metrics import roc_curve, auc\n",
    "import matplotlib.pyplot as plt\n",
    "probs = model.predict_proba(X_test)[:, 1]\n",
    "\n",
    "# Calculate ROC curve\n",
    "fpr, tpr, thresholds = roc_curve(y_test, probs)\n",
    "\n",
    "# Calculate AUC\n",
    "roc_auc = auc(fpr, tpr)\n",
    "\n",
    "# Plot ROC curve\n",
    "plt.figure()\n",
    "plt.plot(fpr, tpr, color='darkorange', lw=2, label='ROC curve (area = %0.2f)' % roc_auc)\n",
    "plt.plot([0, 1], [0, 1], color='navy', lw=2, linestyle='--')\n",
    "plt.xlim([0.0, 1.0])\n",
    "plt.ylim([0.0, 1.05])\n",
    "plt.xlabel('False Positive Rate')\n",
    "plt.ylabel('True Positive Rate')\n",
    "plt.title('Receiver Operating Characteristic (ROC) Curve')\n",
    "plt.legend(loc=\"lower right\")\n",
    "plt.show()"
   ]
  },
  {
   "cell_type": "code",
   "execution_count": 302,
   "metadata": {},
   "outputs": [],
   "source": [
    "# # Get feature coefficients\n",
    "# importance = model.coef_[0]\n",
    "\n",
    "# for i, v in enumerate(importance):\n",
    "#     print('Feature: %s, Score: %.5f' % (X.columns[i], v))\n",
    "\n",
    "# plt.figure(figsize=(10, 6))\n",
    "# plt.bar(X.columns, importance)\n",
    "# plt.xlabel('Feature')\n",
    "# plt.ylabel('Coefficient Magnitude')\n",
    "# plt.title('Feature Coefficients in Logistic Regression')\n",
    "# plt.xticks(rotation=45, ha='right')  # Rotate x-axis labels for better visibility\n",
    "# plt.show()"
   ]
  },
  {
   "cell_type": "code",
   "execution_count": 289,
   "metadata": {},
   "outputs": [
    {
     "data": {
      "text/plain": [
       "array([[0.35948908, 0.6405109 ],\n",
       "       [0.4359333 , 0.5640667 ],\n",
       "       [0.35554945, 0.64445055],\n",
       "       ...,\n",
       "       [0.26868904, 0.73131096],\n",
       "       [0.3617233 , 0.6382767 ],\n",
       "       [0.57972157, 0.42027843]], dtype=float32)"
      ]
     },
     "execution_count": 289,
     "metadata": {},
     "output_type": "execute_result"
    }
   ],
   "source": [
    "pred = model.predict_proba(X_test)\n",
    "pred"
   ]
  },
  {
   "cell_type": "code",
   "execution_count": 290,
   "metadata": {},
   "outputs": [
    {
     "name": "stdout",
     "output_type": "stream",
     "text": [
      "Predicted data saved to predicted_data.csv\n"
     ]
    }
   ],
   "source": [
    "# Predict probabilities on the validation set for both classes\n",
    "y_probabilities = model.predict_proba(X_test)\n",
    "\n",
    "# Extract probabilities for positive and negative outcomes\n",
    "positive_probabilities = y_probabilities[:, 1]  # Probabilities of belonging to class 1 (positive outcome)\n",
    "negative_probabilities = y_probabilities[:, 0]  # Probabilities of belonging to class 0 (negative outcome)\n",
    "\n",
    "# Combine actual outcomes and predicted probabilities into a DataFrame\n",
    "predicted_data = pd.DataFrame({'y': y_test, 'p_positive': positive_probabilities, 'p_negative': negative_probabilities})\n",
    "\n",
    "# Write the predicted data to a CSV file\n",
    "predicted_data.to_csv('predicted_data.csv', index=False)\n",
    "\n",
    "print(\"Predicted data saved to predicted_data.csv\")"
   ]
  },
  {
   "cell_type": "markdown",
   "metadata": {},
   "source": [
    "### Decile method"
   ]
  },
  {
   "cell_type": "markdown",
   "metadata": {},
   "source": [
    "#### method 1\n",
    "ref . https://www.analyticsvidhya.com/blog/2021/09/how-to-evaluate-the-business-value-of-ml-model/"
   ]
  },
  {
   "cell_type": "code",
   "execution_count": 291,
   "metadata": {},
   "outputs": [
    {
     "data": {
      "text/html": [
       "<div>\n",
       "<style scoped>\n",
       "    .dataframe tbody tr th:only-of-type {\n",
       "        vertical-align: middle;\n",
       "    }\n",
       "\n",
       "    .dataframe tbody tr th {\n",
       "        vertical-align: top;\n",
       "    }\n",
       "\n",
       "    .dataframe thead th {\n",
       "        text-align: right;\n",
       "    }\n",
       "</style>\n",
       "<table border=\"1\" class=\"dataframe\">\n",
       "  <thead>\n",
       "    <tr style=\"text-align: right;\">\n",
       "      <th></th>\n",
       "      <th>prob_glm</th>\n",
       "    </tr>\n",
       "  </thead>\n",
       "  <tbody>\n",
       "    <tr>\n",
       "      <th>0</th>\n",
       "      <td>0.64</td>\n",
       "    </tr>\n",
       "    <tr>\n",
       "      <th>1</th>\n",
       "      <td>0.56</td>\n",
       "    </tr>\n",
       "    <tr>\n",
       "      <th>2</th>\n",
       "      <td>0.64</td>\n",
       "    </tr>\n",
       "    <tr>\n",
       "      <th>3</th>\n",
       "      <td>0.59</td>\n",
       "    </tr>\n",
       "    <tr>\n",
       "      <th>4</th>\n",
       "      <td>0.64</td>\n",
       "    </tr>\n",
       "  </tbody>\n",
       "</table>\n",
       "</div>"
      ],
      "text/plain": [
       "   prob_glm\n",
       "0      0.64\n",
       "1      0.56\n",
       "2      0.64\n",
       "3      0.59\n",
       "4      0.64"
      ]
     },
     "execution_count": 291,
     "metadata": {},
     "output_type": "execute_result"
    }
   ],
   "source": [
    "max_prob = round(pd.DataFrame(np.amax(pred, axis=1), columns = ['prob_glm']),2)\n",
    "max_prob.head()"
   ]
  },
  {
   "cell_type": "code",
   "execution_count": 292,
   "metadata": {},
   "outputs": [
    {
     "data": {
      "text/html": [
       "<div>\n",
       "<style scoped>\n",
       "    .dataframe tbody tr th:only-of-type {\n",
       "        vertical-align: middle;\n",
       "    }\n",
       "\n",
       "    .dataframe tbody tr th {\n",
       "        vertical-align: top;\n",
       "    }\n",
       "\n",
       "    .dataframe thead th {\n",
       "        text-align: right;\n",
       "    }\n",
       "</style>\n",
       "<table border=\"1\" class=\"dataframe\">\n",
       "  <thead>\n",
       "    <tr style=\"text-align: right;\">\n",
       "      <th></th>\n",
       "      <th>prob_glm</th>\n",
       "      <th>Decile_rank_glm</th>\n",
       "    </tr>\n",
       "  </thead>\n",
       "  <tbody>\n",
       "    <tr>\n",
       "      <th>0</th>\n",
       "      <td>0.64</td>\n",
       "      <td>8</td>\n",
       "    </tr>\n",
       "    <tr>\n",
       "      <th>1</th>\n",
       "      <td>0.56</td>\n",
       "      <td>9</td>\n",
       "    </tr>\n",
       "    <tr>\n",
       "      <th>2</th>\n",
       "      <td>0.64</td>\n",
       "      <td>8</td>\n",
       "    </tr>\n",
       "    <tr>\n",
       "      <th>3</th>\n",
       "      <td>0.59</td>\n",
       "      <td>9</td>\n",
       "    </tr>\n",
       "    <tr>\n",
       "      <th>4</th>\n",
       "      <td>0.64</td>\n",
       "      <td>8</td>\n",
       "    </tr>\n",
       "  </tbody>\n",
       "</table>\n",
       "</div>"
      ],
      "text/plain": [
       "   prob_glm Decile_rank_glm\n",
       "0      0.64               8\n",
       "1      0.56               9\n",
       "2      0.64               8\n",
       "3      0.59               9\n",
       "4      0.64               8"
      ]
     },
     "execution_count": 292,
     "metadata": {},
     "output_type": "execute_result"
    }
   ],
   "source": [
    "max_prob['Decile_rank_glm'] = pd.cut(max_prob['prob_glm'], 10, labels = np.arange(10,0, -1))\n",
    "max_prob.head()"
   ]
  },
  {
   "cell_type": "code",
   "execution_count": 293,
   "metadata": {},
   "outputs": [],
   "source": [
    "# import kds\n",
    "# kds.metrics.plot_cumulative_gain(y_test.to_numpy(), pred[:,1])"
   ]
  },
  {
   "cell_type": "markdown",
   "metadata": {},
   "source": [
    "#### method 2\n",
    "ref . https://pypi.org/project/kds/"
   ]
  },
  {
   "cell_type": "code",
   "execution_count": 294,
   "metadata": {},
   "outputs": [
    {
     "name": "stdout",
     "output_type": "stream",
     "text": [
      "LABELS INFO:\n",
      "\n",
      " prob_min         : Minimum probability in a particular decile\n",
      " prob_max         : Minimum probability in a particular decile\n",
      " prob_avg         : Average probability in a particular decile\n",
      " cnt_events       : Count of events in a particular decile\n",
      " cnt_resp         : Count of responders in a particular decile\n",
      " cnt_non_resp     : Count of non-responders in a particular decile\n",
      " cnt_resp_rndm    : Count of responders if events assigned randomly in a particular decile\n",
      " cnt_resp_wiz     : Count of best possible responders in a particular decile\n",
      " resp_rate        : Response Rate in a particular decile [(cnt_resp/cnt_cust)*100]\n",
      " cum_events       : Cumulative sum of events decile-wise \n",
      " cum_resp         : Cumulative sum of responders decile-wise \n",
      " cum_resp_wiz     : Cumulative sum of best possible responders decile-wise \n",
      " cum_non_resp     : Cumulative sum of non-responders decile-wise \n",
      " cum_events_pct   : Cumulative sum of percentages of events decile-wise \n",
      " cum_resp_pct     : Cumulative sum of percentages of responders decile-wise \n",
      " cum_resp_pct_wiz : Cumulative sum of percentages of best possible responders decile-wise \n",
      " cum_non_resp_pct : Cumulative sum of percentages of non-responders decile-wise \n",
      " KS               : KS Statistic decile-wise \n",
      " lift             : Cumuative Lift Value decile-wise\n"
     ]
    },
    {
     "data": {
      "text/html": [
       "<div>\n",
       "<style scoped>\n",
       "    .dataframe tbody tr th:only-of-type {\n",
       "        vertical-align: middle;\n",
       "    }\n",
       "\n",
       "    .dataframe tbody tr th {\n",
       "        vertical-align: top;\n",
       "    }\n",
       "\n",
       "    .dataframe thead th {\n",
       "        text-align: right;\n",
       "    }\n",
       "</style>\n",
       "<table border=\"1\" class=\"dataframe\">\n",
       "  <thead>\n",
       "    <tr style=\"text-align: right;\">\n",
       "      <th></th>\n",
       "      <th>decile</th>\n",
       "      <th>prob_min</th>\n",
       "      <th>prob_max</th>\n",
       "      <th>prob_avg</th>\n",
       "      <th>...</th>\n",
       "      <th>cum_resp_pct_wiz</th>\n",
       "      <th>cum_non_resp_pct</th>\n",
       "      <th>KS</th>\n",
       "      <th>lift</th>\n",
       "    </tr>\n",
       "  </thead>\n",
       "  <tbody>\n",
       "    <tr>\n",
       "      <th>0</th>\n",
       "      <td>1</td>\n",
       "      <td>0.772</td>\n",
       "      <td>0.954</td>\n",
       "      <td>0.818</td>\n",
       "      <td>...</td>\n",
       "      <td>15.114</td>\n",
       "      <td>5.292</td>\n",
       "      <td>7.117</td>\n",
       "      <td>1.241</td>\n",
       "    </tr>\n",
       "    <tr>\n",
       "      <th>1</th>\n",
       "      <td>2</td>\n",
       "      <td>0.730</td>\n",
       "      <td>0.772</td>\n",
       "      <td>0.750</td>\n",
       "      <td>...</td>\n",
       "      <td>30.225</td>\n",
       "      <td>12.712</td>\n",
       "      <td>11.014</td>\n",
       "      <td>1.186</td>\n",
       "    </tr>\n",
       "    <tr>\n",
       "      <th>2</th>\n",
       "      <td>3</td>\n",
       "      <td>0.703</td>\n",
       "      <td>0.730</td>\n",
       "      <td>0.716</td>\n",
       "      <td>...</td>\n",
       "      <td>45.339</td>\n",
       "      <td>20.776</td>\n",
       "      <td>13.942</td>\n",
       "      <td>1.157</td>\n",
       "    </tr>\n",
       "    <tr>\n",
       "      <th>3</th>\n",
       "      <td>4</td>\n",
       "      <td>0.679</td>\n",
       "      <td>0.703</td>\n",
       "      <td>0.690</td>\n",
       "      <td>...</td>\n",
       "      <td>60.450</td>\n",
       "      <td>29.490</td>\n",
       "      <td>15.883</td>\n",
       "      <td>1.134</td>\n",
       "    </tr>\n",
       "    <tr>\n",
       "      <th>4</th>\n",
       "      <td>5</td>\n",
       "      <td>0.656</td>\n",
       "      <td>0.679</td>\n",
       "      <td>0.667</td>\n",
       "      <td>...</td>\n",
       "      <td>75.564</td>\n",
       "      <td>38.780</td>\n",
       "      <td>16.958</td>\n",
       "      <td>1.115</td>\n",
       "    </tr>\n",
       "    <tr>\n",
       "      <th>5</th>\n",
       "      <td>6</td>\n",
       "      <td>0.634</td>\n",
       "      <td>0.656</td>\n",
       "      <td>0.645</td>\n",
       "      <td>...</td>\n",
       "      <td>90.674</td>\n",
       "      <td>49.010</td>\n",
       "      <td>16.609</td>\n",
       "      <td>1.094</td>\n",
       "    </tr>\n",
       "    <tr>\n",
       "      <th>6</th>\n",
       "      <td>7</td>\n",
       "      <td>0.611</td>\n",
       "      <td>0.634</td>\n",
       "      <td>0.622</td>\n",
       "      <td>...</td>\n",
       "      <td>100.000</td>\n",
       "      <td>60.540</td>\n",
       "      <td>14.298</td>\n",
       "      <td>1.069</td>\n",
       "    </tr>\n",
       "    <tr>\n",
       "      <th>7</th>\n",
       "      <td>8</td>\n",
       "      <td>0.587</td>\n",
       "      <td>0.611</td>\n",
       "      <td>0.599</td>\n",
       "      <td>...</td>\n",
       "      <td>100.000</td>\n",
       "      <td>72.912</td>\n",
       "      <td>10.712</td>\n",
       "      <td>1.045</td>\n",
       "    </tr>\n",
       "    <tr>\n",
       "      <th>8</th>\n",
       "      <td>9</td>\n",
       "      <td>0.555</td>\n",
       "      <td>0.587</td>\n",
       "      <td>0.572</td>\n",
       "      <td>...</td>\n",
       "      <td>100.000</td>\n",
       "      <td>85.602</td>\n",
       "      <td>6.648</td>\n",
       "      <td>1.025</td>\n",
       "    </tr>\n",
       "    <tr>\n",
       "      <th>9</th>\n",
       "      <td>10</td>\n",
       "      <td>0.086</td>\n",
       "      <td>0.555</td>\n",
       "      <td>0.527</td>\n",
       "      <td>...</td>\n",
       "      <td>100.000</td>\n",
       "      <td>100.000</td>\n",
       "      <td>0.000</td>\n",
       "      <td>1.000</td>\n",
       "    </tr>\n",
       "  </tbody>\n",
       "</table>\n",
       "<p>10 rows × 20 columns</p>\n",
       "</div>"
      ],
      "text/plain": [
       "   decile  prob_min  prob_max  prob_avg  ...  cum_resp_pct_wiz  \\\n",
       "0       1     0.772     0.954     0.818  ...            15.114   \n",
       "1       2     0.730     0.772     0.750  ...            30.225   \n",
       "2       3     0.703     0.730     0.716  ...            45.339   \n",
       "3       4     0.679     0.703     0.690  ...            60.450   \n",
       "4       5     0.656     0.679     0.667  ...            75.564   \n",
       "5       6     0.634     0.656     0.645  ...            90.674   \n",
       "6       7     0.611     0.634     0.622  ...           100.000   \n",
       "7       8     0.587     0.611     0.599  ...           100.000   \n",
       "8       9     0.555     0.587     0.572  ...           100.000   \n",
       "9      10     0.086     0.555     0.527  ...           100.000   \n",
       "\n",
       "   cum_non_resp_pct      KS   lift  \n",
       "0             5.292   7.117  1.241  \n",
       "1            12.712  11.014  1.186  \n",
       "2            20.776  13.942  1.157  \n",
       "3            29.490  15.883  1.134  \n",
       "4            38.780  16.958  1.115  \n",
       "5            49.010  16.609  1.094  \n",
       "6            60.540  14.298  1.069  \n",
       "7            72.912  10.712  1.045  \n",
       "8            85.602   6.648  1.025  \n",
       "9           100.000   0.000  1.000  \n",
       "\n",
       "[10 rows x 20 columns]"
      ]
     },
     "execution_count": 294,
     "metadata": {},
     "output_type": "execute_result"
    }
   ],
   "source": [
    "from sklearn.model_selection import train_test_split\n",
    "from sklearn import tree\n",
    "\n",
    "\n",
    "# clf = tree.DecisionTreeClassifier(max_depth=1,random_state=3)\n",
    "clf = LogisticRegression()\n",
    "clf = clf.fit(X_train, y_train)\n",
    "y_prob = clf.predict_proba(X_test)\n",
    "\n",
    "import kds\n",
    "kds.metrics.decile_table(y_test, y_prob[:,1])"
   ]
  },
  {
   "cell_type": "code",
   "execution_count": 295,
   "metadata": {},
   "outputs": [
    {
     "data": {
      "image/png": "[encoded data removed]",
      "text/plain": [
       "<Figure size 640x480 with 1 Axes>"
      ]
     },
     "metadata": {},
     "output_type": "display_data"
    }
   ],
   "source": [
    "kds.metrics.plot_cumulative_gain(y_test, y_prob[:,1])"
   ]
  },
  {
   "cell_type": "markdown",
   "metadata": {},
   "source": [
    "#### method 3\n",
    "ref . https://www.listendata.com/2019/07/KS-Statistics-Python.html"
   ]
  },
  {
   "cell_type": "code",
   "execution_count": 296,
   "metadata": {},
   "outputs": [
    {
     "data": {
      "text/html": [
       "<div>\n",
       "<style scoped>\n",
       "    .dataframe tbody tr th:only-of-type {\n",
       "        vertical-align: middle;\n",
       "    }\n",
       "\n",
       "    .dataframe tbody tr th {\n",
       "        vertical-align: top;\n",
       "    }\n",
       "\n",
       "    .dataframe thead th {\n",
       "        text-align: right;\n",
       "    }\n",
       "</style>\n",
       "<table border=\"1\" class=\"dataframe\">\n",
       "  <thead>\n",
       "    <tr style=\"text-align: right;\">\n",
       "      <th></th>\n",
       "      <th>y</th>\n",
       "      <th>p_positive</th>\n",
       "      <th>p_negative</th>\n",
       "    </tr>\n",
       "  </thead>\n",
       "  <tbody>\n",
       "    <tr>\n",
       "      <th>0</th>\n",
       "      <td>1</td>\n",
       "      <td>0.640511</td>\n",
       "      <td>0.359489</td>\n",
       "    </tr>\n",
       "    <tr>\n",
       "      <th>1</th>\n",
       "      <td>1</td>\n",
       "      <td>0.564067</td>\n",
       "      <td>0.435933</td>\n",
       "    </tr>\n",
       "    <tr>\n",
       "      <th>2</th>\n",
       "      <td>1</td>\n",
       "      <td>0.644451</td>\n",
       "      <td>0.355549</td>\n",
       "    </tr>\n",
       "    <tr>\n",
       "      <th>3</th>\n",
       "      <td>1</td>\n",
       "      <td>0.588263</td>\n",
       "      <td>0.411737</td>\n",
       "    </tr>\n",
       "    <tr>\n",
       "      <th>4</th>\n",
       "      <td>0</td>\n",
       "      <td>0.364353</td>\n",
       "      <td>0.635647</td>\n",
       "    </tr>\n",
       "  </tbody>\n",
       "</table>\n",
       "</div>"
      ],
      "text/plain": [
       "   y  p_positive  p_negative\n",
       "0  1    0.640511    0.359489\n",
       "1  1    0.564067    0.435933\n",
       "2  1    0.644451    0.355549\n",
       "3  1    0.588263    0.411737\n",
       "4  0    0.364353    0.635647"
      ]
     },
     "execution_count": 296,
     "metadata": {},
     "output_type": "execute_result"
    }
   ],
   "source": [
    "prob_df = pd.read_csv('predicted_data.csv')\n",
    "prob_df.head()"
   ]
  },
  {
   "cell_type": "code",
   "execution_count": 297,
   "metadata": {},
   "outputs": [
    {
     "data": {
      "text/html": [
       "<div>\n",
       "<style scoped>\n",
       "    .dataframe tbody tr th:only-of-type {\n",
       "        vertical-align: middle;\n",
       "    }\n",
       "\n",
       "    .dataframe tbody tr th {\n",
       "        vertical-align: top;\n",
       "    }\n",
       "\n",
       "    .dataframe thead th {\n",
       "        text-align: right;\n",
       "    }\n",
       "</style>\n",
       "<table border=\"1\" class=\"dataframe\">\n",
       "  <thead>\n",
       "    <tr style=\"text-align: right;\">\n",
       "      <th></th>\n",
       "      <th>y</th>\n",
       "      <th>prob</th>\n",
       "    </tr>\n",
       "  </thead>\n",
       "  <tbody>\n",
       "    <tr>\n",
       "      <th>0</th>\n",
       "      <td>1</td>\n",
       "      <td>0.640511</td>\n",
       "    </tr>\n",
       "    <tr>\n",
       "      <th>1</th>\n",
       "      <td>1</td>\n",
       "      <td>0.564067</td>\n",
       "    </tr>\n",
       "    <tr>\n",
       "      <th>2</th>\n",
       "      <td>1</td>\n",
       "      <td>0.644451</td>\n",
       "    </tr>\n",
       "    <tr>\n",
       "      <th>3</th>\n",
       "      <td>1</td>\n",
       "      <td>0.588263</td>\n",
       "    </tr>\n",
       "    <tr>\n",
       "      <th>4</th>\n",
       "      <td>0</td>\n",
       "      <td>0.635647</td>\n",
       "    </tr>\n",
       "  </tbody>\n",
       "</table>\n",
       "</div>"
      ],
      "text/plain": [
       "   y      prob\n",
       "0  1  0.640511\n",
       "1  1  0.564067\n",
       "2  1  0.644451\n",
       "3  1  0.588263\n",
       "4  0  0.635647"
      ]
     },
     "execution_count": 297,
     "metadata": {},
     "output_type": "execute_result"
    }
   ],
   "source": [
    "prob_df['prob'] = prob_df.apply(lambda row: row['p_positive'] if row['y'] == 1 else row['p_negative'], axis=1)\n",
    "prob_df = prob_df[['y', 'prob']]\n",
    "\n",
    "prob_df.head()"
   ]
  },
  {
   "cell_type": "code",
   "execution_count": 298,
   "metadata": {},
   "outputs": [
    {
     "data": {
      "text/html": [
       "<div>\n",
       "<style scoped>\n",
       "    .dataframe tbody tr th:only-of-type {\n",
       "        vertical-align: middle;\n",
       "    }\n",
       "\n",
       "    .dataframe tbody tr th {\n",
       "        vertical-align: top;\n",
       "    }\n",
       "\n",
       "    .dataframe thead th {\n",
       "        text-align: right;\n",
       "    }\n",
       "</style>\n",
       "<table border=\"1\" class=\"dataframe\">\n",
       "  <thead>\n",
       "    <tr style=\"text-align: right;\">\n",
       "      <th></th>\n",
       "      <th>y</th>\n",
       "      <th>prob</th>\n",
       "    </tr>\n",
       "  </thead>\n",
       "  <tbody>\n",
       "    <tr>\n",
       "      <th>6400</th>\n",
       "      <td>1</td>\n",
       "      <td>0.123554</td>\n",
       "    </tr>\n",
       "    <tr>\n",
       "      <th>38022</th>\n",
       "      <td>1</td>\n",
       "      <td>0.123554</td>\n",
       "    </tr>\n",
       "    <tr>\n",
       "      <th>34641</th>\n",
       "      <td>1</td>\n",
       "      <td>0.123890</td>\n",
       "    </tr>\n",
       "    <tr>\n",
       "      <th>38492</th>\n",
       "      <td>1</td>\n",
       "      <td>0.125056</td>\n",
       "    </tr>\n",
       "    <tr>\n",
       "      <th>37841</th>\n",
       "      <td>1</td>\n",
       "      <td>0.128792</td>\n",
       "    </tr>\n",
       "    <tr>\n",
       "      <th>...</th>\n",
       "      <td>...</td>\n",
       "      <td>...</td>\n",
       "    </tr>\n",
       "    <tr>\n",
       "      <th>20540</th>\n",
       "      <td>1</td>\n",
       "      <td>0.999540</td>\n",
       "    </tr>\n",
       "    <tr>\n",
       "      <th>28424</th>\n",
       "      <td>1</td>\n",
       "      <td>0.999558</td>\n",
       "    </tr>\n",
       "    <tr>\n",
       "      <th>24083</th>\n",
       "      <td>1</td>\n",
       "      <td>0.999610</td>\n",
       "    </tr>\n",
       "    <tr>\n",
       "      <th>33516</th>\n",
       "      <td>1</td>\n",
       "      <td>0.999629</td>\n",
       "    </tr>\n",
       "    <tr>\n",
       "      <th>10273</th>\n",
       "      <td>1</td>\n",
       "      <td>0.999651</td>\n",
       "    </tr>\n",
       "  </tbody>\n",
       "</table>\n",
       "<p>26465 rows × 2 columns</p>\n",
       "</div>"
      ],
      "text/plain": [
       "       y      prob\n",
       "6400   1  0.123554\n",
       "38022  1  0.123554\n",
       "34641  1  0.123890\n",
       "38492  1  0.125056\n",
       "37841  1  0.128792\n",
       "...   ..       ...\n",
       "20540  1  0.999540\n",
       "28424  1  0.999558\n",
       "24083  1  0.999610\n",
       "33516  1  0.999629\n",
       "10273  1  0.999651\n",
       "\n",
       "[26465 rows x 2 columns]"
      ]
     },
     "execution_count": 298,
     "metadata": {},
     "output_type": "execute_result"
    }
   ],
   "source": [
    "prob_df[prob_df['y']==1].sort_values(by='prob')"
   ]
  },
  {
   "cell_type": "code",
   "execution_count": 299,
   "metadata": {},
   "outputs": [],
   "source": [
    "def ks(data=None,target=None, prob=None):\n",
    "    data['target0'] = 1 - data[target]\n",
    "    data['bucket'] = pd.qcut(data[prob], 10)\n",
    "    grouped = data.groupby('bucket', as_index = False)\n",
    "    kstable = pd.DataFrame()\n",
    "    kstable['min_prob'] = grouped.min()[prob]\n",
    "    kstable['max_prob'] = grouped.max()[prob]\n",
    "    kstable['events']   = grouped.sum()[target]\n",
    "    kstable['nonevents'] = grouped.sum()['target0']\n",
    "    kstable = kstable.sort_values(by=\"min_prob\", ascending=False).reset_index(drop = True)\n",
    "    kstable['event_rate'] = (kstable.events / data[target].sum()).apply('{0:.2%}'.format)\n",
    "    kstable['nonevent_rate'] = (kstable.nonevents / data['target0'].sum()).apply('{0:.2%}'.format)\n",
    "    kstable['cum_eventrate']=(kstable.events / data[target].sum()).cumsum()\n",
    "    kstable['cum_noneventrate']=(kstable.nonevents / data['target0'].sum()).cumsum()\n",
    "    kstable['KS'] = np.round(kstable['cum_eventrate']-kstable['cum_noneventrate'], 3) * 100\n",
    "\n",
    "    #Formating\n",
    "    kstable['cum_eventrate']= kstable['cum_eventrate'].apply('{0:.2%}'.format)\n",
    "    kstable['cum_noneventrate']= kstable['cum_noneventrate'].apply('{0:.2%}'.format)\n",
    "    kstable.index = range(1,11)\n",
    "    kstable.index.rename('Decile', inplace=True)\n",
    "    pd.set_option('display.max_columns', 9)\n",
    "    print(kstable)\n",
    "    \n",
    "    #Display KS\n",
    "    from colorama import Fore\n",
    "    print(Fore.RED + \"KS is \" + str(max(kstable['KS']))+\"%\"+ \" at decile \" + str((kstable.index[kstable['KS']==max(kstable['KS'])][0])))\n",
    "    return(kstable)"
   ]
  },
  {
   "cell_type": "code",
   "execution_count": 300,
   "metadata": {},
   "outputs": [
    {
     "name": "stdout",
     "output_type": "stream",
     "text": [
      "        min_prob  max_prob  events  nonevents event_rate nonevent_rate  \\\n",
      "Decile                                                                   \n",
      "1       0.892244  0.999651    3968         32     14.99%         0.24%   \n",
      "2       0.811078  0.892235    3891        108     14.70%         0.80%   \n",
      "3       0.738929  0.811068    3785        215     14.30%         1.59%   \n",
      "4       0.671015  0.738922    3565        434     13.47%         3.21%   \n",
      "5       0.607904  0.670976    3275        724     12.37%         5.35%   \n",
      "6       0.550223  0.607867    2941       1059     11.11%         7.83%   \n",
      "7       0.495710  0.550191    2297       1702      8.68%        12.58%   \n",
      "8       0.433298  0.495707    1588       2412      6.00%        17.83%   \n",
      "9       0.336999  0.433289     921       3078      3.48%        22.75%   \n",
      "10      0.011042  0.336951     234       3766      0.88%        27.83%   \n",
      "\n",
      "       cum_eventrate cum_noneventrate    KS  \n",
      "Decile                                       \n",
      "1             14.99%            0.24%  14.8  \n",
      "2             29.70%            1.03%  28.7  \n",
      "3             44.00%            2.62%  41.4  \n",
      "4             57.47%            5.83%  51.6  \n",
      "5             69.84%           11.18%  58.7  \n",
      "6             80.96%           19.01%  61.9  \n",
      "7             89.64%           31.59%  58.0  \n",
      "8             95.64%           49.42%  46.2  \n",
      "9             99.12%           72.17%  27.0  \n",
      "10           100.00%          100.00%  -0.0  \n",
      "\u001b[31mKS is 61.9% at decile 6\n"
     ]
    }
   ],
   "source": [
    "mydf = ks(data=prob_df,target=\"y\", prob=\"prob\")"
   ]
  },
  {
   "cell_type": "code",
   "execution_count": 301,
   "metadata": {},
   "outputs": [
    {
     "data": {
      "text/html": [
       "<div>\n",
       "<style scoped>\n",
       "    .dataframe tbody tr th:only-of-type {\n",
       "        vertical-align: middle;\n",
       "    }\n",
       "\n",
       "    .dataframe tbody tr th {\n",
       "        vertical-align: top;\n",
       "    }\n",
       "\n",
       "    .dataframe thead th {\n",
       "        text-align: right;\n",
       "    }\n",
       "</style>\n",
       "<table border=\"1\" class=\"dataframe\">\n",
       "  <thead>\n",
       "    <tr style=\"text-align: right;\">\n",
       "      <th></th>\n",
       "      <th>min_prob</th>\n",
       "      <th>max_prob</th>\n",
       "      <th>events</th>\n",
       "      <th>nonevents</th>\n",
       "      <th>event_rate</th>\n",
       "      <th>nonevent_rate</th>\n",
       "      <th>cum_eventrate</th>\n",
       "      <th>cum_noneventrate</th>\n",
       "      <th>KS</th>\n",
       "    </tr>\n",
       "    <tr>\n",
       "      <th>Decile</th>\n",
       "      <th></th>\n",
       "      <th></th>\n",
       "      <th></th>\n",
       "      <th></th>\n",
       "      <th></th>\n",
       "      <th></th>\n",
       "      <th></th>\n",
       "      <th></th>\n",
       "      <th></th>\n",
       "    </tr>\n",
       "  </thead>\n",
       "  <tbody>\n",
       "    <tr>\n",
       "      <th>1</th>\n",
       "      <td>0.892244</td>\n",
       "      <td>0.999651</td>\n",
       "      <td>3968</td>\n",
       "      <td>32</td>\n",
       "      <td>14.99%</td>\n",
       "      <td>0.24%</td>\n",
       "      <td>14.99%</td>\n",
       "      <td>0.24%</td>\n",
       "      <td>14.8</td>\n",
       "    </tr>\n",
       "    <tr>\n",
       "      <th>2</th>\n",
       "      <td>0.811078</td>\n",
       "      <td>0.892235</td>\n",
       "      <td>3891</td>\n",
       "      <td>108</td>\n",
       "      <td>14.70%</td>\n",
       "      <td>0.80%</td>\n",
       "      <td>29.70%</td>\n",
       "      <td>1.03%</td>\n",
       "      <td>28.7</td>\n",
       "    </tr>\n",
       "    <tr>\n",
       "      <th>3</th>\n",
       "      <td>0.738929</td>\n",
       "      <td>0.811068</td>\n",
       "      <td>3785</td>\n",
       "      <td>215</td>\n",
       "      <td>14.30%</td>\n",
       "      <td>1.59%</td>\n",
       "      <td>44.00%</td>\n",
       "      <td>2.62%</td>\n",
       "      <td>41.4</td>\n",
       "    </tr>\n",
       "    <tr>\n",
       "      <th>4</th>\n",
       "      <td>0.671015</td>\n",
       "      <td>0.738922</td>\n",
       "      <td>3565</td>\n",
       "      <td>434</td>\n",
       "      <td>13.47%</td>\n",
       "      <td>3.21%</td>\n",
       "      <td>57.47%</td>\n",
       "      <td>5.83%</td>\n",
       "      <td>51.6</td>\n",
       "    </tr>\n",
       "    <tr>\n",
       "      <th>5</th>\n",
       "      <td>0.607904</td>\n",
       "      <td>0.670976</td>\n",
       "      <td>3275</td>\n",
       "      <td>724</td>\n",
       "      <td>12.37%</td>\n",
       "      <td>5.35%</td>\n",
       "      <td>69.84%</td>\n",
       "      <td>11.18%</td>\n",
       "      <td>58.7</td>\n",
       "    </tr>\n",
       "  </tbody>\n",
       "</table>\n",
       "</div>"
      ],
      "text/plain": [
       "        min_prob  max_prob  events  nonevents event_rate nonevent_rate  \\\n",
       "Decile                                                                   \n",
       "1       0.892244  0.999651    3968         32     14.99%         0.24%   \n",
       "2       0.811078  0.892235    3891        108     14.70%         0.80%   \n",
       "3       0.738929  0.811068    3785        215     14.30%         1.59%   \n",
       "4       0.671015  0.738922    3565        434     13.47%         3.21%   \n",
       "5       0.607904  0.670976    3275        724     12.37%         5.35%   \n",
       "\n",
       "       cum_eventrate cum_noneventrate    KS  \n",
       "Decile                                       \n",
       "1             14.99%            0.24%  14.8  \n",
       "2             29.70%            1.03%  28.7  \n",
       "3             44.00%            2.62%  41.4  \n",
       "4             57.47%            5.83%  51.6  \n",
       "5             69.84%           11.18%  58.7  "
      ]
     },
     "execution_count": 301,
     "metadata": {},
     "output_type": "execute_result"
    }
   ],
   "source": [
    "mydf.head()"
   ]
  }
 ],
 "metadata": {
  "kernelspec": {
   "display_name": "innenv",
   "language": "python",
   "name": "python3"
  },
  "language_info": {
   "codemirror_mode": {
    "name": "ipython",
    "version": 3
   },
   "file_extension": ".py",
   "mimetype": "text/x-python",
   "name": "python",
   "nbconvert_exporter": "python",
   "pygments_lexer": "ipython3",
   "version": "3.9.6"
  }
 },
 "nbformat": 4,
 "nbformat_minor": 2
}
